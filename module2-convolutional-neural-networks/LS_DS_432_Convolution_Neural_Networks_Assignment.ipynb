{
  "nbformat": 4,
  "nbformat_minor": 0,
  "metadata": {
    "kernelspec": {
      "display_name": "U4-S2-NNF-DS10",
      "language": "python",
      "name": "u4-s2-nnf-ds10"
    },
    "language_info": {
      "codemirror_mode": {
        "name": "ipython",
        "version": 3
      },
      "file_extension": ".py",
      "mimetype": "text/x-python",
      "name": "python",
      "nbconvert_exporter": "python",
      "pygments_lexer": "ipython3",
      "version": "3.7.6"
    },
    "nteract": {
      "version": "0.23.1"
    },
    "colab": {
      "name": "LS_DS_432_Convolution_Neural_Networks_Assignment.ipynb",
      "provenance": []
    },
    "accelerator": "GPU"
  },
  "cells": [
    {
      "cell_type": "markdown",
      "metadata": {
        "id": "UuNIKUQcMT-0",
        "colab_type": "text"
      },
      "source": [
        "<img align=\"left\" src=\"https://lever-client-logos.s3.amazonaws.com/864372b1-534c-480e-acd5-9711f850815c-1524247202159.png\" width=200>\n",
        "<br></br>\n",
        "<br></br>\n",
        "\n",
        "## *Data Science Unit 4 Sprint 3 Assignment 2*\n",
        "# Convolutional Neural Networks (CNNs)"
      ]
    },
    {
      "cell_type": "markdown",
      "metadata": {
        "colab_type": "text",
        "id": "0lfZdD_cp1t5"
      },
      "source": [
        "# Assignment\n",
        "\n",
        "- <a href=\"#p1\">Part 1:</a> Pre-Trained Model\n",
        "- <a href=\"#p2\">Part 2:</a> Custom CNN Model\n",
        "- <a href=\"#p3\">Part 3:</a> CNN with Data Augmentation\n",
        "\n",
        "\n",
        "You will apply three different CNN models to a binary image classification model using Keras. Classify images of Mountains (`./data/train/mountain/*`) and images of forests (`./data/train/forest/*`). Treat mountains as the positive class (1) and the forest images as the negative (zero). \n",
        "\n",
        "|Mountain (+)|Forest (-)|\n",
        "|---|---|\n",
        "|![](https://github.com/HKang42/DS-Unit-4-Sprint-3-Deep-Learning/blob/master/module2-convolutional-neural-networks/data/train/mountain/art1131.jpg?raw=1)|![](https://github.com/HKang42/DS-Unit-4-Sprint-3-Deep-Learning/blob/master/module2-convolutional-neural-networks/data/validation/forest/cdmc317.jpg?raw=1)|\n",
        "\n",
        "The problem is relatively difficult given that the sample is tiny: there are about 350 observations per class. This sample size might be something that you can expect with prototyping an image classification problem/solution at work. Get accustomed to evaluating several different possible models."
      ]
    },
    {
      "cell_type": "markdown",
      "metadata": {
        "colab_type": "text",
        "id": "RqMYs5kvMT-3"
      },
      "source": [
        "# Pre - Trained Model\n",
        "<a id=\"p1\"></a>\n",
        "\n",
        "Load a pretrained network from Keras, [ResNet50](https://tfhub.dev/google/imagenet/resnet_v1_50/classification/1) - a 50 layer deep network trained to recognize [1000 objects](https://storage.googleapis.com/download.tensorflow.org/data/ImageNetLabels.txt). Starting usage:\n",
        "\n",
        "```python\n",
        "import numpy as np\n",
        "\n",
        "from tensorflow.keras.applications.resnet50 import ResNet50\n",
        "from tensorflow.keras.preprocessing import image\n",
        "from tensorflow.keras.applications.resnet50 import preprocess_input, decode_predictions\n",
        "\n",
        "from tensorflow.keras.layers import Dense, GlobalAveragePooling2D\n",
        "from tensorflow.keras.models import Model # This is the functional API\n",
        "\n",
        "resnet = ResNet50(weights='imagenet', include_top=False)\n",
        "\n",
        "```\n",
        "\n",
        "The `include_top` parameter in `ResNet50` will remove the full connected layers from the ResNet model. The next step is to turn off the training of the ResNet layers. We want to use the learned parameters without updating them in future training passes. \n",
        "\n",
        "```python\n",
        "for layer in resnet.layers:\n",
        "    layer.trainable = False\n",
        "```\n",
        "\n",
        "Using the Keras functional API, we will need to additional additional full connected layers to our model. We we removed the top layers, we removed all preivous fully connected layers. In other words, we kept only the feature processing portions of our network. You can expert with additional layers beyond what's listed here. The `GlobalAveragePooling2D` layer functions as a really fancy flatten function by taking the average of each of the last convolutional layer outputs (which is two dimensional still). \n",
        "\n",
        "```python\n",
        "x = resnet.output\n",
        "x = GlobalAveragePooling2D()(x) # This layer is a really fancy flatten\n",
        "x = Dense(1024, activation='relu')(x)\n",
        "predictions = Dense(1, activation='sigmoid')(x)\n",
        "model = Model(resnet.input, predictions)\n",
        "```\n",
        "\n",
        "Your assignment is to apply the transfer learning above to classify images of Mountains (`./data/train/mountain/*`) and images of forests (`./data/train/forest/*`). Treat mountains as the positive class (1) and the forest images as the negative (zero). \n",
        "\n",
        "Steps to complete assignment: \n",
        "1. Load in Image Data into numpy arrays (`X`) \n",
        "2. Create a `y` for the labels\n",
        "3. Train your model with pre-trained layers from resnet\n",
        "4. Report your model's accuracy"
      ]
    },
    {
      "cell_type": "markdown",
      "metadata": {
        "id": "ecTgJqp5MT-3",
        "colab_type": "text"
      },
      "source": [
        "## Load in Data\n",
        "\n",
        "This surprisingly more difficult than it seems, because you are working with directories of images instead of a single file. This boiler plate will help you download a zipped version of the directory of images. The directory is organized into \"train\" and \"validation\" which you can use inside an `ImageGenerator` class to stream batches of images thru your model.  \n"
      ]
    },
    {
      "cell_type": "markdown",
      "metadata": {
        "id": "PxrmFMDTMT-4",
        "colab_type": "text"
      },
      "source": [
        "### Download & Summarize the Data\n",
        "\n",
        "This step is completed for you. Just run the cells and review the results. "
      ]
    },
    {
      "cell_type": "code",
      "metadata": {
        "id": "EMfavLkGMT-5",
        "colab_type": "code",
        "colab": {
          "base_uri": "https://localhost:8080/",
          "height": 51
        },
        "outputId": "78821437-f13b-44e3-a11a-5b107553383b"
      },
      "source": [
        "import tensorflow as tf\n",
        "import os\n",
        "\n",
        "_URL = 'https://github.com/LambdaSchool/DS-Unit-4-Sprint-3-Deep-Learning/blob/master/module2-convolutional-neural-networks/data.zip?raw=true'\n",
        "\n",
        "path_to_zip = tf.keras.utils.get_file('./data.zip', origin=_URL, extract=True)\n",
        "PATH = os.path.join(os.path.dirname(path_to_zip), 'data')"
      ],
      "execution_count": 1,
      "outputs": [
        {
          "output_type": "stream",
          "text": [
            "Downloading data from https://github.com/LambdaSchool/DS-Unit-4-Sprint-3-Deep-Learning/blob/master/module2-convolutional-neural-networks/data.zip?raw=true\n",
            "42172416/42170838 [==============================] - 1s 0us/step\n"
          ],
          "name": "stdout"
        }
      ]
    },
    {
      "cell_type": "code",
      "metadata": {
        "id": "Yr7alHnUMT_F",
        "colab_type": "code",
        "colab": {}
      },
      "source": [
        "train_dir = os.path.join(PATH, 'train')\n",
        "validation_dir = os.path.join(PATH, 'validation')"
      ],
      "execution_count": 0,
      "outputs": []
    },
    {
      "cell_type": "code",
      "metadata": {
        "id": "6cgGQRvEMT_J",
        "colab_type": "code",
        "colab": {}
      },
      "source": [
        "train_mountain_dir = os.path.join(train_dir, 'mountain')  # directory with our training cat pictures\n",
        "train_forest_dir = os.path.join(train_dir, 'forest')  # directory with our training dog pictures\n",
        "validation_mountain_dir = os.path.join(validation_dir, 'mountain')  # directory with our validation cat pictures\n",
        "validation_forest_dir = os.path.join(validation_dir, 'forest')  # directory with our validation dog pictures"
      ],
      "execution_count": 0,
      "outputs": []
    },
    {
      "cell_type": "code",
      "metadata": {
        "id": "G-etyJniMT_N",
        "colab_type": "code",
        "colab": {}
      },
      "source": [
        "num_mountain_tr = len(os.listdir(train_mountain_dir))\n",
        "num_forest_tr = len(os.listdir(train_forest_dir))\n",
        "\n",
        "num_mountain_val = len(os.listdir(validation_mountain_dir))\n",
        "num_forest_val = len(os.listdir(validation_forest_dir))\n",
        "\n",
        "total_train = num_mountain_tr + num_forest_tr\n",
        "total_val = num_mountain_val + num_forest_val"
      ],
      "execution_count": 0,
      "outputs": []
    },
    {
      "cell_type": "code",
      "metadata": {
        "id": "-GMQXAOAMT_T",
        "colab_type": "code",
        "colab": {
          "base_uri": "https://localhost:8080/",
          "height": 136
        },
        "outputId": "4c769b49-dcdf-425b-fe41-e0e334161eb8"
      },
      "source": [
        "print('total training mountain images:', num_mountain_tr)\n",
        "print('total training forest images:', num_forest_tr)\n",
        "\n",
        "print('total validation mountain images:', num_mountain_val)\n",
        "print('total validation forest images:', num_forest_val)\n",
        "print(\"--\")\n",
        "print(\"Total training images:\", total_train)\n",
        "print(\"Total validation images:\", total_val)"
      ],
      "execution_count": 5,
      "outputs": [
        {
          "output_type": "stream",
          "text": [
            "total training mountain images: 254\n",
            "total training forest images: 270\n",
            "total validation mountain images: 125\n",
            "total validation forest images: 62\n",
            "--\n",
            "Total training images: 524\n",
            "Total validation images: 187\n"
          ],
          "name": "stdout"
        }
      ]
    },
    {
      "cell_type": "markdown",
      "metadata": {
        "id": "JfwZlLr5MT_X",
        "colab_type": "text"
      },
      "source": [
        "### Keras `ImageGenerator` to Process the Data\n",
        "\n",
        "This step is completed for you, but please review the code. The `ImageGenerator` class reads in batches of data from a directory and pass them to the model one batch at a time. Just like large text files, this method is advantageous, because it stifles the need to load a bunch of images into memory. \n",
        "\n",
        "Check out the documentation for this class method: [Keras `ImageGenerator` Class](https://keras.io/preprocessing/image/#imagedatagenerator-class). You'll expand it's use in the third assignment objective."
      ]
    },
    {
      "cell_type": "code",
      "metadata": {
        "id": "te08xjnpMT_Y",
        "colab_type": "code",
        "colab": {}
      },
      "source": [
        "batch_size = 16\n",
        "epochs = 50\n",
        "IMG_HEIGHT = 224\n",
        "IMG_WIDTH = 224"
      ],
      "execution_count": 0,
      "outputs": []
    },
    {
      "cell_type": "code",
      "metadata": {
        "id": "IKOdCZUgMT_c",
        "colab_type": "code",
        "colab": {}
      },
      "source": [
        "from tensorflow.keras.preprocessing.image import ImageDataGenerator\n",
        "\n",
        "train_image_generator = ImageDataGenerator(rescale=1./255) # Generator for our training data\n",
        "validation_image_generator = ImageDataGenerator(rescale=1./255) # Generator for our validation data"
      ],
      "execution_count": 0,
      "outputs": []
    },
    {
      "cell_type": "code",
      "metadata": {
        "id": "-celKE4VMT_h",
        "colab_type": "code",
        "colab": {
          "base_uri": "https://localhost:8080/",
          "height": 34
        },
        "outputId": "0dc3c0b2-ac8a-466e-e6f9-cd97ed5571ec"
      },
      "source": [
        "train_data_gen = train_image_generator.flow_from_directory(batch_size=batch_size,\n",
        "                                                           directory=train_dir,\n",
        "                                                           shuffle=True,\n",
        "                                                           target_size=(IMG_HEIGHT, IMG_WIDTH),\n",
        "                                                           class_mode='binary')"
      ],
      "execution_count": 8,
      "outputs": [
        {
          "output_type": "stream",
          "text": [
            "Found 533 images belonging to 2 classes.\n"
          ],
          "name": "stdout"
        }
      ]
    },
    {
      "cell_type": "code",
      "metadata": {
        "id": "OrC0uBO6MT_k",
        "colab_type": "code",
        "colab": {
          "base_uri": "https://localhost:8080/",
          "height": 34
        },
        "outputId": "db25ddee-c2c8-403c-8df0-139de0af7a72"
      },
      "source": [
        "val_data_gen = validation_image_generator.flow_from_directory(batch_size=batch_size,\n",
        "                                                              directory=validation_dir,\n",
        "                                                              target_size=(IMG_HEIGHT, IMG_WIDTH),\n",
        "                                                              class_mode='binary')"
      ],
      "execution_count": 9,
      "outputs": [
        {
          "output_type": "stream",
          "text": [
            "Found 195 images belonging to 2 classes.\n"
          ],
          "name": "stdout"
        }
      ]
    },
    {
      "cell_type": "code",
      "metadata": {
        "id": "Re-Q0ecySTun",
        "colab_type": "code",
        "colab": {
          "base_uri": "https://localhost:8080/",
          "height": 51
        },
        "outputId": "d1ef2c24-49aa-466c-fafe-6ea3fae57901"
      },
      "source": [
        "# function for printing model results\n",
        "\n",
        "import seaborn as sns\n",
        "import matplotlib.pyplot as plt\n",
        "\n",
        "def graph_results(results, metric_list, title = \"\", dimensions = (6,4)):\n",
        "    a4_dims = dimensions\n",
        "    fig, ax = plt.subplots(figsize=a4_dims)\n",
        "    plot_title=\"Plot of \"\n",
        "    for metric in metric_list:\n",
        "        ax = sns.lineplot(x = [i for i in range(len(results.history[metric]))], y = results.history[metric])\n",
        "        if title is graph_results.__defaults__[0]:\n",
        "            plot_title += metric + \", \"\n",
        "        else:\n",
        "            plot_title = title\n",
        "    ax.set_title(plot_title)\n",
        "    ax.set_xlabel('Epoch')\n",
        "    ax.legend(metric_list)\n",
        "    ax.set_ylabel(\"Score\");"
      ],
      "execution_count": 10,
      "outputs": [
        {
          "output_type": "stream",
          "text": [
            "/usr/local/lib/python3.6/dist-packages/statsmodels/tools/_testing.py:19: FutureWarning: pandas.util.testing is deprecated. Use the functions in the public API at pandas.testing instead.\n",
            "  import pandas.util.testing as tm\n"
          ],
          "name": "stderr"
        }
      ]
    },
    {
      "cell_type": "markdown",
      "metadata": {
        "id": "RgRNenQEMT_m",
        "colab_type": "text"
      },
      "source": [
        "## Instatiate Model"
      ]
    },
    {
      "cell_type": "code",
      "metadata": {
        "id": "Ld6zNprjMT_n",
        "colab_type": "code",
        "colab": {
          "base_uri": "https://localhost:8080/",
          "height": 51
        },
        "outputId": "5b17db77-b711-4a65-e017-7fa89f2dbdbc"
      },
      "source": [
        "import numpy as np\n",
        " \n",
        "from tensorflow.keras.applications.resnet50 import ResNet50\n",
        "from tensorflow.keras.preprocessing import image\n",
        "from tensorflow.keras.applications.resnet50 import preprocess_input, decode_predictions\n",
        " \n",
        "from tensorflow.keras.layers import Dense, GlobalAveragePooling2D\n",
        "from tensorflow.keras.models import Model # This is the functional API\n",
        "\n",
        "# Get pre=trained model\n",
        "# Use include_top=False to ignore the fully-connected layers from the model\n",
        "resnet = ResNet50(weights='imagenet', include_top=False)\n",
        "\n",
        "# Turn off training so we don't update the pre-trained parameters when we train our own, new dense layers\n",
        "for layer in resnet.layers:\n",
        "    layer.trainable = False\n",
        "\n",
        "# Add pooling layer and new fully-connected layer\n",
        "x = resnet.output\n",
        "x = GlobalAveragePooling2D()(x) # This layer is a really fancy flatten\n",
        "x = Dense(1024, activation='relu')(x)\n",
        "predictions = Dense(1, activation='sigmoid')(x)\n",
        "model = Model(resnet.input, predictions)"
      ],
      "execution_count": 11,
      "outputs": [
        {
          "output_type": "stream",
          "text": [
            "Downloading data from https://storage.googleapis.com/tensorflow/keras-applications/resnet/resnet50_weights_tf_dim_ordering_tf_kernels_notop.h5\n",
            "94773248/94765736 [==============================] - 1s 0us/step\n"
          ],
          "name": "stdout"
        }
      ]
    },
    {
      "cell_type": "code",
      "metadata": {
        "id": "_gahin9wOXL2",
        "colab_type": "code",
        "colab": {}
      },
      "source": [
        "from tensorflow.keras.callbacks import EarlyStopping\n",
        "\n",
        "model.compile(optimizer='nadam',\n",
        "              loss='binary_crossentropy',\n",
        "              metrics=['accuracy'])\n",
        "\n",
        "epochs = 50\n",
        "batch_size = 32\n",
        "\n",
        "\n",
        "stop = EarlyStopping(monitor='val_loss', min_delta=0.001, patience=3)"
      ],
      "execution_count": 0,
      "outputs": []
    },
    {
      "cell_type": "markdown",
      "metadata": {
        "id": "uaqeGWwJMT_r",
        "colab_type": "text"
      },
      "source": [
        "## Fit Model"
      ]
    },
    {
      "cell_type": "code",
      "metadata": {
        "id": "c780XIwjMT_r",
        "colab_type": "code",
        "colab": {
          "base_uri": "https://localhost:8080/",
          "height": 1000
        },
        "outputId": "df120008-d380-40d9-d485-4673ba1f2b8e"
      },
      "source": [
        "history = model.fit(\n",
        "    train_data_gen,\n",
        "    steps_per_epoch=total_train // batch_size,\n",
        "    epochs=epochs,\n",
        "    validation_data=val_data_gen,\n",
        "    validation_steps=total_val // batch_size,\n",
        "    #callbacks=[stop]\n",
        ")"
      ],
      "execution_count": 34,
      "outputs": [
        {
          "output_type": "stream",
          "text": [
            "Epoch 1/50\n",
            "16/16 [==============================] - 2s 142ms/step - loss: 0.2470 - accuracy: 0.8828 - val_loss: 0.2642 - val_accuracy: 0.9125\n",
            "Epoch 2/50\n",
            "16/16 [==============================] - 1s 78ms/step - loss: 0.4366 - accuracy: 0.8367 - val_loss: 0.4407 - val_accuracy: 0.8125\n",
            "Epoch 3/50\n",
            "16/16 [==============================] - 1s 79ms/step - loss: 0.1845 - accuracy: 0.9453 - val_loss: 0.3039 - val_accuracy: 0.8750\n",
            "Epoch 4/50\n",
            "16/16 [==============================] - 1s 78ms/step - loss: 0.2251 - accuracy: 0.9023 - val_loss: 0.3920 - val_accuracy: 0.8000\n",
            "Epoch 5/50\n",
            "16/16 [==============================] - 1s 76ms/step - loss: 0.2380 - accuracy: 0.8980 - val_loss: 0.5908 - val_accuracy: 0.7375\n",
            "Epoch 6/50\n",
            "16/16 [==============================] - 1s 77ms/step - loss: 0.1836 - accuracy: 0.9143 - val_loss: 0.3279 - val_accuracy: 0.8500\n",
            "Epoch 7/50\n",
            "16/16 [==============================] - 1s 79ms/step - loss: 0.3446 - accuracy: 0.8633 - val_loss: 0.2110 - val_accuracy: 0.9625\n",
            "Epoch 8/50\n",
            "16/16 [==============================] - 1s 77ms/step - loss: 0.1907 - accuracy: 0.9306 - val_loss: 0.2354 - val_accuracy: 0.9250\n",
            "Epoch 9/50\n",
            "16/16 [==============================] - 1s 79ms/step - loss: 0.1733 - accuracy: 0.9336 - val_loss: 0.1897 - val_accuracy: 0.9375\n",
            "Epoch 10/50\n",
            "16/16 [==============================] - 1s 75ms/step - loss: 0.2257 - accuracy: 0.9143 - val_loss: 0.2758 - val_accuracy: 0.8750\n",
            "Epoch 11/50\n",
            "16/16 [==============================] - 1s 75ms/step - loss: 0.2565 - accuracy: 0.9061 - val_loss: 0.1915 - val_accuracy: 0.9000\n",
            "Epoch 12/50\n",
            "16/16 [==============================] - 1s 77ms/step - loss: 0.2930 - accuracy: 0.8694 - val_loss: 0.6379 - val_accuracy: 0.7250\n",
            "Epoch 13/50\n",
            "16/16 [==============================] - 1s 79ms/step - loss: 0.2318 - accuracy: 0.8984 - val_loss: 0.1636 - val_accuracy: 0.9375\n",
            "Epoch 14/50\n",
            "16/16 [==============================] - 1s 79ms/step - loss: 0.1513 - accuracy: 0.9469 - val_loss: 0.2811 - val_accuracy: 0.9000\n",
            "Epoch 15/50\n",
            "16/16 [==============================] - 1s 79ms/step - loss: 0.2215 - accuracy: 0.9141 - val_loss: 0.3504 - val_accuracy: 0.8375\n",
            "Epoch 16/50\n",
            "16/16 [==============================] - 1s 79ms/step - loss: 0.3130 - accuracy: 0.8750 - val_loss: 0.2821 - val_accuracy: 0.9000\n",
            "Epoch 17/50\n",
            "16/16 [==============================] - 1s 76ms/step - loss: 0.2467 - accuracy: 0.8776 - val_loss: 0.3391 - val_accuracy: 0.8625\n",
            "Epoch 18/50\n",
            "16/16 [==============================] - 1s 78ms/step - loss: 0.1788 - accuracy: 0.9453 - val_loss: 0.1490 - val_accuracy: 0.9500\n",
            "Epoch 19/50\n",
            "16/16 [==============================] - 1s 76ms/step - loss: 0.1660 - accuracy: 0.9414 - val_loss: 0.3883 - val_accuracy: 0.8375\n",
            "Epoch 20/50\n",
            "16/16 [==============================] - 1s 78ms/step - loss: 0.2611 - accuracy: 0.8945 - val_loss: 0.6067 - val_accuracy: 0.7250\n",
            "Epoch 21/50\n",
            "16/16 [==============================] - 1s 78ms/step - loss: 0.1657 - accuracy: 0.9336 - val_loss: 0.3910 - val_accuracy: 0.8125\n",
            "Epoch 22/50\n",
            "16/16 [==============================] - 1s 79ms/step - loss: 0.1635 - accuracy: 0.9492 - val_loss: 0.1480 - val_accuracy: 0.9500\n",
            "Epoch 23/50\n",
            "16/16 [==============================] - 1s 79ms/step - loss: 0.1789 - accuracy: 0.9258 - val_loss: 0.2831 - val_accuracy: 0.9125\n",
            "Epoch 24/50\n",
            "16/16 [==============================] - 1s 77ms/step - loss: 0.3458 - accuracy: 0.8531 - val_loss: 0.5806 - val_accuracy: 0.7625\n",
            "Epoch 25/50\n",
            "16/16 [==============================] - 1s 77ms/step - loss: 0.1574 - accuracy: 0.9551 - val_loss: 0.2221 - val_accuracy: 0.9000\n",
            "Epoch 26/50\n",
            "16/16 [==============================] - 1s 75ms/step - loss: 0.1487 - accuracy: 0.9592 - val_loss: 0.2343 - val_accuracy: 0.9125\n",
            "Epoch 27/50\n",
            "16/16 [==============================] - 1s 78ms/step - loss: 0.1389 - accuracy: 0.9570 - val_loss: 0.3243 - val_accuracy: 0.8250\n",
            "Epoch 28/50\n",
            "16/16 [==============================] - 1s 78ms/step - loss: 0.2437 - accuracy: 0.8867 - val_loss: 0.2989 - val_accuracy: 0.9000\n",
            "Epoch 29/50\n",
            "16/16 [==============================] - 1s 79ms/step - loss: 0.2276 - accuracy: 0.9061 - val_loss: 0.2357 - val_accuracy: 0.9250\n",
            "Epoch 30/50\n",
            "16/16 [==============================] - 1s 78ms/step - loss: 0.1908 - accuracy: 0.9219 - val_loss: 0.2114 - val_accuracy: 0.9250\n",
            "Epoch 31/50\n",
            "16/16 [==============================] - 1s 76ms/step - loss: 0.2640 - accuracy: 0.9102 - val_loss: 0.2781 - val_accuracy: 0.9000\n",
            "Epoch 32/50\n",
            "16/16 [==============================] - 1s 79ms/step - loss: 0.0952 - accuracy: 0.9727 - val_loss: 0.3210 - val_accuracy: 0.8500\n",
            "Epoch 33/50\n",
            "16/16 [==============================] - 1s 77ms/step - loss: 0.2644 - accuracy: 0.8612 - val_loss: 0.2333 - val_accuracy: 0.8625\n",
            "Epoch 34/50\n",
            "16/16 [==============================] - 1s 76ms/step - loss: 0.3721 - accuracy: 0.8531 - val_loss: 0.1683 - val_accuracy: 0.9625\n",
            "Epoch 35/50\n",
            "16/16 [==============================] - 1s 77ms/step - loss: 0.2147 - accuracy: 0.9141 - val_loss: 0.2832 - val_accuracy: 0.8875\n",
            "Epoch 36/50\n",
            "16/16 [==============================] - 1s 76ms/step - loss: 0.1389 - accuracy: 0.9592 - val_loss: 0.2898 - val_accuracy: 0.8875\n",
            "Epoch 37/50\n",
            "16/16 [==============================] - 1s 79ms/step - loss: 0.1576 - accuracy: 0.9414 - val_loss: 0.2444 - val_accuracy: 0.8750\n",
            "Epoch 38/50\n",
            "16/16 [==============================] - 1s 77ms/step - loss: 0.1470 - accuracy: 0.9429 - val_loss: 0.1902 - val_accuracy: 0.9375\n",
            "Epoch 39/50\n",
            "16/16 [==============================] - 1s 77ms/step - loss: 0.1006 - accuracy: 0.9648 - val_loss: 0.1680 - val_accuracy: 0.9125\n",
            "Epoch 40/50\n",
            "16/16 [==============================] - 1s 77ms/step - loss: 0.1347 - accuracy: 0.9492 - val_loss: 0.2603 - val_accuracy: 0.9000\n",
            "Epoch 41/50\n",
            "16/16 [==============================] - 1s 79ms/step - loss: 0.2632 - accuracy: 0.9062 - val_loss: 0.3787 - val_accuracy: 0.8125\n",
            "Epoch 42/50\n",
            "16/16 [==============================] - 1s 76ms/step - loss: 0.2245 - accuracy: 0.9265 - val_loss: 0.2645 - val_accuracy: 0.9000\n",
            "Epoch 43/50\n",
            "16/16 [==============================] - 1s 77ms/step - loss: 0.1500 - accuracy: 0.9347 - val_loss: 0.4523 - val_accuracy: 0.8375\n",
            "Epoch 44/50\n",
            "16/16 [==============================] - 1s 78ms/step - loss: 0.1449 - accuracy: 0.9414 - val_loss: 0.2297 - val_accuracy: 0.9250\n",
            "Epoch 45/50\n",
            "16/16 [==============================] - 1s 78ms/step - loss: 0.1270 - accuracy: 0.9531 - val_loss: 0.4548 - val_accuracy: 0.8375\n",
            "Epoch 46/50\n",
            "16/16 [==============================] - 1s 78ms/step - loss: 0.0960 - accuracy: 0.9805 - val_loss: 0.1794 - val_accuracy: 0.9500\n",
            "Epoch 47/50\n",
            "16/16 [==============================] - 1s 76ms/step - loss: 0.1223 - accuracy: 0.9633 - val_loss: 0.5143 - val_accuracy: 0.8250\n",
            "Epoch 48/50\n",
            "16/16 [==============================] - 1s 78ms/step - loss: 0.1231 - accuracy: 0.9531 - val_loss: 0.5422 - val_accuracy: 0.8000\n",
            "Epoch 49/50\n",
            "16/16 [==============================] - 1s 76ms/step - loss: 0.2694 - accuracy: 0.8867 - val_loss: 0.2547 - val_accuracy: 0.9000\n",
            "Epoch 50/50\n",
            "16/16 [==============================] - 1s 76ms/step - loss: 0.1083 - accuracy: 0.9688 - val_loss: 0.2879 - val_accuracy: 0.9250\n"
          ],
          "name": "stdout"
        }
      ]
    },
    {
      "cell_type": "code",
      "metadata": {
        "id": "VJlbUciUWHV1",
        "colab_type": "code",
        "colab": {
          "base_uri": "https://localhost:8080/",
          "height": 295
        },
        "outputId": "7c51bc82-2e10-4a9a-f3b9-220d6f3c3f3c"
      },
      "source": [
        "graph_results(history, ['loss', 'val_loss'])"
      ],
      "execution_count": 37,
      "outputs": [
        {
          "output_type": "display_data",
          "data": {
            "image/png": "[encoded data removed]",
            "text/plain": [
              "<Figure size 432x288 with 1 Axes>"
            ]
          },
          "metadata": {
            "tags": [],
            "needs_background": "light"
          }
        }
      ]
    },
    {
      "cell_type": "markdown",
      "metadata": {
        "id": "oMbCa1aXMT_x",
        "colab_type": "text"
      },
      "source": [
        "# Custom CNN Model\n",
        "\n",
        "In this step, write and train your own convolutional neural network using Keras. You can use any architecture that suits you as long as it has at least one convolutional and one pooling layer at the beginning of the network - you can add more if you want. "
      ]
    },
    {
      "cell_type": "code",
      "metadata": {
        "id": "Ab6caCf4MT_y",
        "colab_type": "code",
        "colab": {}
      },
      "source": [
        "# Define the Model\n"
      ],
      "execution_count": 0,
      "outputs": []
    },
    {
      "cell_type": "code",
      "metadata": {
        "id": "3bjjuYGmMT_1",
        "colab_type": "code",
        "colab": {}
      },
      "source": [
        "# Compile Model"
      ],
      "execution_count": 0,
      "outputs": []
    },
    {
      "cell_type": "code",
      "metadata": {
        "id": "eDygkUf5MT_5",
        "colab_type": "code",
        "colab": {}
      },
      "source": [
        "# Fit Model"
      ],
      "execution_count": 0,
      "outputs": []
    },
    {
      "cell_type": "markdown",
      "metadata": {
        "id": "IH5toj-qMT_7",
        "colab_type": "text"
      },
      "source": [
        "# Custom CNN Model with Image Manipulations\n",
        "\n",
        "To simulate an increase in a sample of image, you can apply image manipulation techniques: cropping, rotation, stretching, etc. Luckily Keras has some handy functions for us to apply these techniques to our mountain and forest example. Simply, you should be able to modify our image generator for the problem. Check out these resources to help you get started: \n",
        "\n",
        "1. [Keras `ImageGenerator` Class](https://keras.io/preprocessing/image/#imagedatagenerator-class)\n",
        "2. [Building a powerful image classifier with very little data](https://blog.keras.io/building-powerful-image-classification-models-using-very-little-data.html)\n",
        " "
      ]
    },
    {
      "cell_type": "code",
      "metadata": {
        "id": "RAt2DIdFMT_8",
        "colab_type": "code",
        "colab": {}
      },
      "source": [
        ""
      ],
      "execution_count": 0,
      "outputs": []
    },
    {
      "cell_type": "markdown",
      "metadata": {
        "colab_type": "text",
        "id": "uT3UV3gap9H6"
      },
      "source": [
        "# Resources and Stretch Goals\n",
        "\n",
        "Stretch goals\n",
        "- Enhance your code to use classes/functions and accept terms to search and classes to look for in recognizing the downloaded images (e.g. download images of parties, recognize all that contain balloons)\n",
        "- Check out [other available pretrained networks](https://tfhub.dev), try some and compare\n",
        "- Image recognition/classification is somewhat solved, but *relationships* between entities and describing an image is not - check out some of the extended resources (e.g. [Visual Genome](https://visualgenome.org/)) on the topic\n",
        "- Transfer learning - using images you source yourself, [retrain a classifier](https://www.tensorflow.org/hub/tutorials/image_retraining) with a new category\n",
        "- (Not CNN related) Use [piexif](https://pypi.org/project/piexif/) to check out the metadata of images passed in to your system - see if they're from a national park! (Note - many images lack GPS metadata, so this won't work in most cases, but still cool)\n",
        "\n",
        "Resources\n",
        "- [Deep Residual Learning for Image Recognition](https://arxiv.org/abs/1512.03385) - influential paper (introduced ResNet)\n",
        "- [YOLO: Real-Time Object Detection](https://pjreddie.com/darknet/yolo/) - an influential convolution based object detection system, focused on inference speed (for applications to e.g. self driving vehicles)\n",
        "- [R-CNN, Fast R-CNN, Faster R-CNN, YOLO](https://towardsdatascience.com/r-cnn-fast-r-cnn-faster-r-cnn-yolo-object-detection-algorithms-36d53571365e) - comparison of object detection systems\n",
        "- [Common Objects in Context](http://cocodataset.org/) - a large-scale object detection, segmentation, and captioning dataset\n",
        "- [Visual Genome](https://visualgenome.org/) - a dataset, a knowledge base, an ongoing effort to connect structured image concepts to language"
      ]
    }
  ]
}